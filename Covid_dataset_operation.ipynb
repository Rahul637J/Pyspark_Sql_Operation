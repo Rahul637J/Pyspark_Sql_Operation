{
 "cells": [
  {
   "cell_type": "markdown",
   "metadata": {},
   "source": [
    "'''<br>\n",
    "@Author: Rahul<br> \n",
    "@Date: 2024-10-08<br>\n",
    "@Last Modified by: Rahul <br>\n",
    "@Last Modified time: 2024-10-08<br>\n",
    "@Title: Python program on covid dataset operation by pyspark.<br>\n",
    "'''"
   ]
  },
  {
   "cell_type": "code",
   "execution_count": 1,
   "metadata": {},
   "outputs": [],
   "source": [
    "from pyspark.sql import SparkSession\n",
    "from pyspark.sql import functions as F"
   ]
  },
  {
   "cell_type": "code",
   "execution_count": 8,
   "metadata": {},
   "outputs": [],
   "source": [
    "\n",
    "spark = SparkSession.builder \\\n",
    "        .appName(\"COVID Death Percentage Analysis\") \\\n",
    "        .getOrCreate()"
   ]
  },
  {
   "cell_type": "code",
   "execution_count": 44,
   "metadata": {},
   "outputs": [
    {
     "data": {
      "text/html": [
       "\n",
       "            <div>\n",
       "                <p><b>SparkSession - in-memory</b></p>\n",
       "                \n",
       "        <div>\n",
       "            <p><b>SparkContext</b></p>\n",
       "\n",
       "            <p><a href=\"http://GURUNADHA:4041\">Spark UI</a></p>\n",
       "\n",
       "            <dl>\n",
       "              <dt>Version</dt>\n",
       "                <dd><code>v3.5.3</code></dd>\n",
       "              <dt>Master</dt>\n",
       "                <dd><code>local[*]</code></dd>\n",
       "              <dt>AppName</dt>\n",
       "                <dd><code>COVID Death Percentage Analysis</code></dd>\n",
       "            </dl>\n",
       "        </div>\n",
       "        \n",
       "            </div>\n",
       "        "
      ],
      "text/plain": [
       "<pyspark.sql.session.SparkSession at 0x223ede67f80>"
      ]
     },
     "execution_count": 44,
     "metadata": {},
     "output_type": "execute_result"
    }
   ],
   "source": [
    "spark"
   ]
  },
  {
   "cell_type": "markdown",
   "metadata": {},
   "source": [
    "1. To find out the death percentage locally and globally"
   ]
  },
  {
   "cell_type": "markdown",
   "metadata": {},
   "source": [
    "Global"
   ]
  },
  {
   "cell_type": "code",
   "execution_count": 83,
   "metadata": {},
   "outputs": [],
   "source": [
    "Global_Death_Percentage_Dataset = spark.read.option(\"header\", \"true\") \\\n",
    "               .option(\"delimiter\", \",\") \\\n",
    "               .csv(r\"file:///C:\\Users\\rahul\\Desktop\\BridgeLabz\\Python\\Questions\\covid-kaggle-dataset\\worldometer_data.csv\")"
   ]
  },
  {
   "cell_type": "code",
   "execution_count": 87,
   "metadata": {},
   "outputs": [
    {
     "name": "stdout",
     "output_type": "stream",
     "text": [
      "root\n",
      " |-- Country/Region: string (nullable = true)\n",
      " |-- Continent: string (nullable = true)\n",
      " |-- Population: string (nullable = true)\n",
      " |-- TotalCases: string (nullable = true)\n",
      " |-- NewCases: string (nullable = true)\n",
      " |-- TotalDeaths: string (nullable = true)\n",
      " |-- NewDeaths: string (nullable = true)\n",
      " |-- TotalRecovered: string (nullable = true)\n",
      " |-- NewRecovered: string (nullable = true)\n",
      " |-- ActiveCases: string (nullable = true)\n",
      " |-- Serious,Critical: string (nullable = true)\n",
      " |-- Tot Cases/1M pop: string (nullable = true)\n",
      " |-- Deaths/1M pop: string (nullable = true)\n",
      " |-- TotalTests: string (nullable = true)\n",
      " |-- Tests/1M pop: string (nullable = true)\n",
      " |-- WHO Region: string (nullable = true)\n",
      "\n"
     ]
    }
   ],
   "source": [
    "Global_Death_Percentage_Dataset.printSchema()\n",
    "Global_Death_Percentage_Dataset.createOrReplaceTempView(\"covid_data\")"
   ]
  },
  {
   "cell_type": "code",
   "execution_count": 29,
   "metadata": {},
   "outputs": [
    {
     "name": "stdout",
     "output_type": "stream",
     "text": [
      "+-----------+--------------+---------------------+\n",
      "|TotalDeaths|TotalConfirmed|GlobalDeathPercentage|\n",
      "+-----------+--------------+---------------------+\n",
      "|   713007.0|   1.9169166E7|                 3.72|\n",
      "+-----------+--------------+---------------------+\n",
      "\n"
     ]
    }
   ],
   "source": [
    "global_death_percentage_query = \"\"\"\n",
    "SELECT \n",
    "    SUM(TotalDeaths) AS TotalDeaths,\n",
    "    SUM(TotalCases) AS TotalConfirmed,\n",
    "    Round((SUM(TotalDeaths) / SUM(TotalCases)) * 100,3) AS GlobalDeathPercentage\n",
    "FROM covid_data\n",
    "\"\"\"\n",
    "\n",
    "spark.sql(global_death_percentage_query).show()"
   ]
  },
  {
   "cell_type": "markdown",
   "metadata": {},
   "source": [
    "Local"
   ]
  },
  {
   "cell_type": "code",
   "execution_count": 88,
   "metadata": {},
   "outputs": [],
   "source": [
    "Global_Death_Percentage_Dataset = spark.read.option(\"header\",\"true\")\\\n",
    "     .option(\"delimiter\",\",\")\\\n",
    "     .csv(r\"file:///C:\\Users\\rahul\\Desktop\\BridgeLabz\\Python\\Questions\\Covid Problem\\Covid Problem\\covid_19_india.csv\")"
   ]
  },
  {
   "cell_type": "code",
   "execution_count": 90,
   "metadata": {},
   "outputs": [
    {
     "name": "stdout",
     "output_type": "stream",
     "text": [
      "root\n",
      " |-- Sno: string (nullable = true)\n",
      " |-- Date: string (nullable = true)\n",
      " |-- Time: string (nullable = true)\n",
      " |-- State/UnionTerritory: string (nullable = true)\n",
      " |-- ConfirmedIndianNational: string (nullable = true)\n",
      " |-- ConfirmedForeignNational: string (nullable = true)\n",
      " |-- Cured: string (nullable = true)\n",
      " |-- Deaths: string (nullable = true)\n",
      " |-- Confirmed: string (nullable = true)\n",
      "\n"
     ]
    }
   ],
   "source": [
    "Global_Death_Percentage_Dataset.createOrReplaceTempView(\"Local_Deaths\")\n",
    "Global_Death_Percentage_Dataset.printSchema()"
   ]
  },
  {
   "cell_type": "code",
   "execution_count": 43,
   "metadata": {},
   "outputs": [
    {
     "name": "stdout",
     "output_type": "stream",
     "text": [
      "+-----------+--------------+----------------+\n",
      "|TotalDeaths|TotalConfirmed|Local_Percentage|\n",
      "+-----------+--------------+----------------+\n",
      "|7.3389005E7| 5.451678687E9|            1.35|\n",
      "+-----------+--------------+----------------+\n",
      "\n"
     ]
    }
   ],
   "source": [
    "local_deaths_percentage=\"\"\"\n",
    "SELECT \n",
    "    SUM(Deaths) AS TotalDeaths,\n",
    "    SUM(Confirmed) AS TotalConfirmed,\n",
    "    ROUND((SUM(Deaths)/SUM(Confirmed))*100, 2) AS Local_Percentage\n",
    "FROM\n",
    "    Local_Deaths   \n",
    "\"\"\"\n",
    "\n",
    "spark.sql(local_deaths_percentage).show()"
   ]
  },
  {
   "cell_type": "markdown",
   "metadata": {},
   "source": [
    "2. To find out the infected population percentage locally and globally"
   ]
  },
  {
   "cell_type": "markdown",
   "metadata": {},
   "source": [
    "Local Infection Rate"
   ]
  },
  {
   "cell_type": "code",
   "execution_count": 95,
   "metadata": {},
   "outputs": [],
   "source": [
    "Local_Infection_Percentage_Dataset=spark.read.option(\"header\",\"true\")\\\n",
    "        .option(\"delimiter\",\",\")\\\n",
    "        .csv(r\"file:///C:\\Users\\rahul\\Desktop\\BridgeLabz\\Python\\Questions\\Covid Problem\\Covid Problem\\StatewiseTestingDetails.csv\")"
   ]
  },
  {
   "cell_type": "code",
   "execution_count": 96,
   "metadata": {},
   "outputs": [
    {
     "name": "stdout",
     "output_type": "stream",
     "text": [
      "root\n",
      " |-- Date: string (nullable = true)\n",
      " |-- State: string (nullable = true)\n",
      " |-- TotalSamples: string (nullable = true)\n",
      " |-- Negative: string (nullable = true)\n",
      " |-- Positive: string (nullable = true)\n",
      "\n"
     ]
    }
   ],
   "source": [
    "Local_Infection_Percentage_Dataset.createOrReplaceTempView(\"Local_Infection\")\n",
    "Local_Infection_Percentage_Dataset.printSchema()"
   ]
  },
  {
   "cell_type": "code",
   "execution_count": 57,
   "metadata": {},
   "outputs": [
    {
     "name": "stdout",
     "output_type": "stream",
     "text": [
      "+---------------+------------+--------------+\n",
      "|   TotalSamples|    Positive|Infection_Rate|\n",
      "+---------------+------------+--------------+\n",
      "|8.7829949447E10|3.20053246E8|          0.36|\n",
      "+---------------+------------+--------------+\n",
      "\n"
     ]
    }
   ],
   "source": [
    "\n",
    "local_infection_rate = \"\"\"\n",
    "SELECT\n",
    "    ROUND(SUM(TotalSamples), 3) AS TotalSamples,\n",
    "    ROUND(SUM(Positive), 3) AS Positive,\n",
    "    ROUND((SUM(Positive) / SUM(TotalSamples)) * 100, 2) AS Infection_Rate\n",
    "FROM\n",
    "    Local_Infection\n",
    "\"\"\"\n",
    "spark.sql(local_infection_rate).show()\n"
   ]
  },
  {
   "cell_type": "markdown",
   "metadata": {},
   "source": [
    "Global Infection Rate"
   ]
  },
  {
   "cell_type": "code",
   "execution_count": 97,
   "metadata": {},
   "outputs": [],
   "source": [
    "Global_Infection_Percentage_Dataset=spark.read.option(\"header\",\"true\")\\\n",
    "        .option(\"delimiter\",\",\")\\\n",
    "        .csv(r\"file:///C:\\Users\\rahul\\Desktop\\BridgeLabz\\Python\\Questions\\covid-kaggle-dataset\\worldometer_data.csv\")\n"
   ]
  },
  {
   "cell_type": "code",
   "execution_count": 98,
   "metadata": {},
   "outputs": [
    {
     "name": "stdout",
     "output_type": "stream",
     "text": [
      "root\n",
      " |-- Country/Region: string (nullable = true)\n",
      " |-- Continent: string (nullable = true)\n",
      " |-- Population: string (nullable = true)\n",
      " |-- TotalCases: string (nullable = true)\n",
      " |-- NewCases: string (nullable = true)\n",
      " |-- TotalDeaths: string (nullable = true)\n",
      " |-- NewDeaths: string (nullable = true)\n",
      " |-- TotalRecovered: string (nullable = true)\n",
      " |-- NewRecovered: string (nullable = true)\n",
      " |-- ActiveCases: string (nullable = true)\n",
      " |-- Serious,Critical: string (nullable = true)\n",
      " |-- Tot Cases/1M pop: string (nullable = true)\n",
      " |-- Deaths/1M pop: string (nullable = true)\n",
      " |-- TotalTests: string (nullable = true)\n",
      " |-- Tests/1M pop: string (nullable = true)\n",
      " |-- WHO Region: string (nullable = true)\n",
      "\n"
     ]
    }
   ],
   "source": [
    "Global_Infection_Percentage_Dataset.createOrReplaceTempView(\"Global_Infection\")\n",
    "Global_Infection_Percentage_Dataset.printSchema()"
   ]
  },
  {
   "cell_type": "code",
   "execution_count": 68,
   "metadata": {},
   "outputs": [
    {
     "name": "stdout",
     "output_type": "stream",
     "text": [
      "+-----------+------------+--------------+\n",
      "| TotalCases|  Population|Infection_Rate|\n",
      "+-----------+------------+--------------+\n",
      "|1.9169166E7|6.32642129E9|           0.3|\n",
      "+-----------+------------+--------------+\n",
      "\n"
     ]
    }
   ],
   "source": [
    "\n",
    "global_infection_rate = \"\"\"\n",
    "SELECT\n",
    "    ROUND(SUM(TotalCases), 3) AS TotalCases,\n",
    "    ROUND(SUM(Population), 3) AS Population,\n",
    "    ROUND((SUM(TotalCases) / SUM(Population)) * 100,2) AS Infection_Rate\n",
    "FROM\n",
    "    Global_Infection\n",
    "\"\"\"\n",
    "\n",
    "spark.sql(global_infection_rate).show()"
   ]
  },
  {
   "cell_type": "markdown",
   "metadata": {},
   "source": [
    "3.To find out the countries with the highest infection rates"
   ]
  },
  {
   "cell_type": "code",
   "execution_count": 99,
   "metadata": {},
   "outputs": [],
   "source": [
    "Highest_Infection_Dataset = spark.read.option(\"header\",\"true\")\\\n",
    "                                 .option(\"delimiter\",\",\")\\\n",
    "                                 .csv(r\"file:///C:\\Users\\rahul\\Desktop\\BridgeLabz\\Python\\Questions\\covid-kaggle-dataset\\worldometer_data.csv\")\n"
   ]
  },
  {
   "cell_type": "code",
   "execution_count": 100,
   "metadata": {},
   "outputs": [
    {
     "name": "stdout",
     "output_type": "stream",
     "text": [
      "root\n",
      " |-- Country/Region: string (nullable = true)\n",
      " |-- Continent: string (nullable = true)\n",
      " |-- Population: string (nullable = true)\n",
      " |-- TotalCases: string (nullable = true)\n",
      " |-- NewCases: string (nullable = true)\n",
      " |-- TotalDeaths: string (nullable = true)\n",
      " |-- NewDeaths: string (nullable = true)\n",
      " |-- TotalRecovered: string (nullable = true)\n",
      " |-- NewRecovered: string (nullable = true)\n",
      " |-- ActiveCases: string (nullable = true)\n",
      " |-- Serious,Critical: string (nullable = true)\n",
      " |-- Tot Cases/1M pop: string (nullable = true)\n",
      " |-- Deaths/1M pop: string (nullable = true)\n",
      " |-- TotalTests: string (nullable = true)\n",
      " |-- Tests/1M pop: string (nullable = true)\n",
      " |-- WHO Region: string (nullable = true)\n",
      "\n"
     ]
    }
   ],
   "source": [
    "Highest_Infection_Dataset.createOrReplaceTempView(\"Highest_Infection\")        \n",
    "Highest_Infection_Dataset.printSchema()                                 "
   ]
  },
  {
   "cell_type": "code",
   "execution_count": 109,
   "metadata": {},
   "outputs": [
    {
     "name": "stdout",
     "output_type": "stream",
     "text": [
      "+--------------+---------------+---------------+--------------+\n",
      "|Country/Region|sum(TotalCases)|sum(Population)|infection_rate|\n",
      "+--------------+---------------+---------------+--------------+\n",
      "|         Qatar|       112092.0|      2807805.0|          3.99|\n",
      "| French Guiana|         8127.0|       299385.0|          2.71|\n",
      "|       Bahrain|        42889.0|      1706669.0|          2.51|\n",
      "|    San Marino|          699.0|        33938.0|          2.06|\n",
      "|         Chile|       366671.0|    1.9132514E7|          1.92|\n",
      "|        Panama|        71418.0|      4321282.0|          1.65|\n",
      "|        Kuwait|        70045.0|      4276658.0|          1.64|\n",
      "|          Oman|        80713.0|      5118446.0|          1.58|\n",
      "|           USA|      5032179.0|    3.3119813E8|          1.52|\n",
      "|  Vatican City|           12.0|          801.0|           1.5|\n",
      "+--------------+---------------+---------------+--------------+\n",
      "\n"
     ]
    }
   ],
   "source": [
    "\n",
    "highest_infected_countries = \"\"\"\n",
    "SELECT \n",
    "    `Country/Region`, \n",
    "    sum(TotalCases), \n",
    "    sum(Population),  \n",
    "    ROUND( (sum(TotalCases) / sum(Population)  * 100), 2) AS infection_rate\n",
    "FROM \n",
    "    Highest_Infection\n",
    "GROUP BY\n",
    "    `Country/Region`    \n",
    "ORDER BY \n",
    "    infection_rate DESC\n",
    "limit 10;    \n",
    "\"\"\"\n",
    "\n",
    "spark.sql(highest_infected_countries).show()"
   ]
  },
  {
   "cell_type": "markdown",
   "metadata": {},
   "source": [
    "4. To find out the countries and continents with the highest death counts"
   ]
  },
  {
   "cell_type": "code",
   "execution_count": 124,
   "metadata": {},
   "outputs": [],
   "source": [
    "World_over_dataset = spark.read.option(\"header\",\"true\")\\\n",
    "                        .option(\"delimiter\",\",\")\\\n",
    "                        .csv(r\"file:///C:\\Users\\rahul\\Desktop\\BridgeLabz\\Python\\Questions\\covid-kaggle-dataset\\worldometer_data.csv\")\n"
   ]
  },
  {
   "cell_type": "code",
   "execution_count": 125,
   "metadata": {},
   "outputs": [
    {
     "name": "stdout",
     "output_type": "stream",
     "text": [
      "root\n",
      " |-- Country/Region: string (nullable = true)\n",
      " |-- Continent: string (nullable = true)\n",
      " |-- Population: string (nullable = true)\n",
      " |-- TotalCases: string (nullable = true)\n",
      " |-- NewCases: string (nullable = true)\n",
      " |-- TotalDeaths: string (nullable = true)\n",
      " |-- NewDeaths: string (nullable = true)\n",
      " |-- TotalRecovered: string (nullable = true)\n",
      " |-- NewRecovered: string (nullable = true)\n",
      " |-- ActiveCases: string (nullable = true)\n",
      " |-- Serious,Critical: string (nullable = true)\n",
      " |-- Tot Cases/1M pop: string (nullable = true)\n",
      " |-- Deaths/1M pop: string (nullable = true)\n",
      " |-- TotalTests: string (nullable = true)\n",
      " |-- Tests/1M pop: string (nullable = true)\n",
      " |-- WHO Region: string (nullable = true)\n",
      "\n"
     ]
    }
   ],
   "source": [
    "World_over_dataset.createOrReplaceTempView(\"World_Wise_Death_Count\")\n",
    "World_over_dataset.printSchema()"
   ]
  },
  {
   "cell_type": "markdown",
   "metadata": {},
   "source": [
    "Continent Wise Death Counts"
   ]
  },
  {
   "cell_type": "code",
   "execution_count": 137,
   "metadata": {},
   "outputs": [
    {
     "name": "stdout",
     "output_type": "stream",
     "text": [
      "+-----------------+-----------+\n",
      "|        Continent|TotalDeaths|\n",
      "+-----------------+-----------+\n",
      "|    North America|   229855.0|\n",
      "|           Europe|   205232.0|\n",
      "|    South America|   154885.0|\n",
      "|             Asia|   100627.0|\n",
      "|           Africa|    22114.0|\n",
      "|Australia/Oceania|      281.0|\n",
      "|             NULL|       13.0|\n",
      "+-----------------+-----------+\n",
      "\n"
     ]
    }
   ],
   "source": [
    "contient_wise_death_count = \"\"\"\n",
    "SELECT\n",
    "    Continent,\n",
    "    ROUND(SUM(TotalDeaths)) AS TotalDeaths\n",
    "FROM\n",
    "    World_Wise_Death_Count\n",
    "GROUP BY\n",
    "    Continent\n",
    "ORDER BY\n",
    "    TotalDeaths DESC        \n",
    "\"\"\"\n",
    "\n",
    "spark.sql(contient_wise_death_count).show()"
   ]
  },
  {
   "cell_type": "markdown",
   "metadata": {},
   "source": [
    "Country Wise Death Count"
   ]
  },
  {
   "cell_type": "code",
   "execution_count": 142,
   "metadata": {},
   "outputs": [
    {
     "name": "stdout",
     "output_type": "stream",
     "text": [
      "+--------------+-----------+\n",
      "|Country/Region|TotalDeaths|\n",
      "+--------------+-----------+\n",
      "|           USA|   162804.0|\n",
      "|        Brazil|    98644.0|\n",
      "|        Mexico|    50517.0|\n",
      "|            UK|    46413.0|\n",
      "|         India|    41638.0|\n",
      "|         Italy|    35187.0|\n",
      "|        France|    30312.0|\n",
      "|         Spain|    28500.0|\n",
      "|          Peru|    20424.0|\n",
      "|          Iran|    17976.0|\n",
      "|        Russia|    14606.0|\n",
      "|      Colombia|    11939.0|\n",
      "|         Chile|     9889.0|\n",
      "|       Belgium|     9859.0|\n",
      "|  South Africa|     9604.0|\n",
      "|       Germany|     9252.0|\n",
      "|        Canada|     8966.0|\n",
      "|   Netherlands|     6153.0|\n",
      "|      Pakistan|     6035.0|\n",
      "|       Ecuador|     5877.0|\n",
      "+--------------+-----------+\n",
      "only showing top 20 rows\n",
      "\n"
     ]
    }
   ],
   "source": [
    "country_wise_death_count = \"\"\"\n",
    "SELECT \n",
    "    `Country/Region`,\n",
    "    ROUND(SUM(TotalDeaths)) AS TotalDeaths\n",
    "FROM \n",
    "    World_Wise_Death_Count\n",
    "GROUP BY \n",
    "    `Country/Region`\n",
    "ORDER BY \n",
    "    TotalDeaths DESC  \n",
    "\"\"\"\n",
    "\n",
    "spark.sql(country_wise_death_count).show()"
   ]
  },
  {
   "cell_type": "markdown",
   "metadata": {},
   "source": [
    "5. Average number of deaths by day (Continents and Countries)"
   ]
  },
  {
   "cell_type": "markdown",
   "metadata": {},
   "source": [
    "Country Wise Deaths"
   ]
  },
  {
   "cell_type": "code",
   "execution_count": 147,
   "metadata": {},
   "outputs": [],
   "source": [
    "country_wise_death_by_day = spark.read.option(\"header\",\"true\")\\\n",
    "     .option(\"delimiter\",\",\")\\\n",
    "     .csv(r\"file:///C:\\Users\\rahul\\Desktop\\BridgeLabz\\Python\\Questions\\covid-kaggle-dataset\\covid_19_clean_complete.csv\")"
   ]
  },
  {
   "cell_type": "code",
   "execution_count": 148,
   "metadata": {},
   "outputs": [
    {
     "name": "stdout",
     "output_type": "stream",
     "text": [
      "root\n",
      " |-- Province/State: string (nullable = true)\n",
      " |-- Country/Region: string (nullable = true)\n",
      " |-- Lat: string (nullable = true)\n",
      " |-- Long: string (nullable = true)\n",
      " |-- Date: string (nullable = true)\n",
      " |-- Confirmed: string (nullable = true)\n",
      " |-- Deaths: string (nullable = true)\n",
      " |-- Recovered: string (nullable = true)\n",
      " |-- Active: string (nullable = true)\n",
      " |-- WHO Region: string (nullable = true)\n",
      "\n"
     ]
    }
   ],
   "source": [
    "country_wise_death_by_day.createOrReplaceTempView(\"Country_Wise_Death_By_Day\")\n",
    "country_wise_death_by_day.printSchema()"
   ]
  },
  {
   "cell_type": "code",
   "execution_count": 151,
   "metadata": {},
   "outputs": [
    {
     "name": "stdout",
     "output_type": "stream",
     "text": [
      "+--------------+------------------+\n",
      "|Country/Region|avg_deaths_per_day|\n",
      "+--------------+------------------+\n",
      "|            US|          58571.34|\n",
      "|United Kingdom|          21264.76|\n",
      "|        Brazil|          20946.99|\n",
      "|         Italy|           19721.9|\n",
      "|        France|          16215.55|\n",
      "|         Spain|          16133.14|\n",
      "|        Mexico|           9192.96|\n",
      "|         India|           5913.99|\n",
      "|          Iran|           5447.53|\n",
      "|       Belgium|           5125.95|\n",
      "|       Germany|           4634.69|\n",
      "|        Canada|            3721.1|\n",
      "|         China|           3576.66|\n",
      "|          Peru|           3468.69|\n",
      "|   Netherlands|           3310.18|\n",
      "|        Russia|            3294.6|\n",
      "|        Turkey|           2479.02|\n",
      "|        Sweden|           2387.84|\n",
      "|       Ecuador|           1843.71|\n",
      "|         Chile|           1715.32|\n",
      "+--------------+------------------+\n",
      "only showing top 20 rows\n",
      "\n"
     ]
    }
   ],
   "source": [
    "country_wise_death_by_day = \"\"\"\n",
    "SELECT \n",
    "    `Country/Region`, \n",
    "    ROUND(SUM(CAST(Deaths AS BIGINT)) / COUNT(DISTINCT Date),2) AS avg_deaths_per_day\n",
    "FROM \n",
    "    Country_Wise_Death_By_Day\n",
    "GROUP BY \n",
    "    `Country/Region`\n",
    "ORDER BY \n",
    "    avg_deaths_per_day DESC; \n",
    "\"\"\"\n",
    "\n",
    "spark.sql(country_wise_death_by_day).show()"
   ]
  },
  {
   "cell_type": "markdown",
   "metadata": {},
   "source": [
    "Contient Wise Death By Day  "
   ]
  },
  {
   "cell_type": "code",
   "execution_count": 152,
   "metadata": {},
   "outputs": [],
   "source": [
    "continent_wise_death_by_day = spark.read.option(\"header\",\"true\")\\\n",
    "     .option(\"delimiter\",\",\")\\\n",
    "     .csv(r\"file:///C:\\Users\\rahul\\Desktop\\BridgeLabz\\Python\\Questions\\covid-kaggle-dataset\\worldometer_data.csv\")"
   ]
  },
  {
   "cell_type": "code",
   "execution_count": 153,
   "metadata": {},
   "outputs": [
    {
     "name": "stdout",
     "output_type": "stream",
     "text": [
      "root\n",
      " |-- Country/Region: string (nullable = true)\n",
      " |-- Continent: string (nullable = true)\n",
      " |-- Population: string (nullable = true)\n",
      " |-- TotalCases: string (nullable = true)\n",
      " |-- NewCases: string (nullable = true)\n",
      " |-- TotalDeaths: string (nullable = true)\n",
      " |-- NewDeaths: string (nullable = true)\n",
      " |-- TotalRecovered: string (nullable = true)\n",
      " |-- NewRecovered: string (nullable = true)\n",
      " |-- ActiveCases: string (nullable = true)\n",
      " |-- Serious,Critical: string (nullable = true)\n",
      " |-- Tot Cases/1M pop: string (nullable = true)\n",
      " |-- Deaths/1M pop: string (nullable = true)\n",
      " |-- TotalTests: string (nullable = true)\n",
      " |-- Tests/1M pop: string (nullable = true)\n",
      " |-- WHO Region: string (nullable = true)\n",
      "\n"
     ]
    }
   ],
   "source": [
    "continent_wise_death_by_day.createOrReplaceTempView(\"Continent_Wise_Death_By_Day\")\n",
    "continent_wise_death_by_day.printSchema()"
   ]
  },
  {
   "cell_type": "code",
   "execution_count": 161,
   "metadata": {},
   "outputs": [
    {
     "name": "stdout",
     "output_type": "stream",
     "text": [
      "+-----------------+------------------+\n",
      "|        Continent|avg_deaths_per_day|\n",
      "+-----------------+------------------+\n",
      "|           Africa|           3628.02|\n",
      "|             Asia|          20654.07|\n",
      "|Australia/Oceania|             72.18|\n",
      "|           Europe|          78134.58|\n",
      "|    North America|          14181.08|\n",
      "|    South America|          30222.54|\n",
      "+-----------------+------------------+\n",
      "\n"
     ]
    }
   ],
   "source": [
    "continent_wise_death_by_day = \"\"\"\n",
    "SELECT \n",
    "    w.Continent,\n",
    "    ROUND(SUM(CAST(c.Deaths AS BIGINT)) / COUNT(DISTINCT c.Date),2) AS avg_deaths_per_day\n",
    "FROM \n",
    "    Country_Wise_Death_By_Day c\n",
    "JOIN \n",
    "    Continent_Wise_Death_By_Day w\n",
    "ON \n",
    "    c.`Country/Region` = w.`Country/Region`\n",
    "GROUP BY \n",
    "    w.Continent\n",
    "ORDER BY \n",
    "    w.Continent;\n",
    "\"\"\"\n",
    "\n",
    "spark.sql(continent_wise_death_by_day).show()\n"
   ]
  },
  {
   "cell_type": "markdown",
   "metadata": {},
   "source": [
    "6. Average of cases divided by the number of population of each country\n",
    "(TOP 10)"
   ]
  },
  {
   "cell_type": "code",
   "execution_count": 155,
   "metadata": {},
   "outputs": [],
   "source": [
    "average_death_country_wise = spark.read.option(\"header\",\"true\")\\\n",
    "     .option(\"delimiter\",\",\")\\\n",
    "     .csv(r\"file:///C:\\Users\\rahul\\Desktop\\BridgeLabz\\Python\\Questions\\covid-kaggle-dataset\\worldometer_data.csv\")"
   ]
  },
  {
   "cell_type": "code",
   "execution_count": 156,
   "metadata": {},
   "outputs": [
    {
     "name": "stdout",
     "output_type": "stream",
     "text": [
      "root\n",
      " |-- Country/Region: string (nullable = true)\n",
      " |-- Continent: string (nullable = true)\n",
      " |-- Population: string (nullable = true)\n",
      " |-- TotalCases: string (nullable = true)\n",
      " |-- NewCases: string (nullable = true)\n",
      " |-- TotalDeaths: string (nullable = true)\n",
      " |-- NewDeaths: string (nullable = true)\n",
      " |-- TotalRecovered: string (nullable = true)\n",
      " |-- NewRecovered: string (nullable = true)\n",
      " |-- ActiveCases: string (nullable = true)\n",
      " |-- Serious,Critical: string (nullable = true)\n",
      " |-- Tot Cases/1M pop: string (nullable = true)\n",
      " |-- Deaths/1M pop: string (nullable = true)\n",
      " |-- TotalTests: string (nullable = true)\n",
      " |-- Tests/1M pop: string (nullable = true)\n",
      " |-- WHO Region: string (nullable = true)\n",
      "\n"
     ]
    }
   ],
   "source": [
    "average_death_country_wise.createOrReplaceTempView(\"average_death\")\n",
    "average_death_country_wise.printSchema()"
   ]
  },
  {
   "cell_type": "code",
   "execution_count": 168,
   "metadata": {},
   "outputs": [
    {
     "name": "stdout",
     "output_type": "stream",
     "text": [
      "+--------------+--------------------+\n",
      "|Country/Region|cases_per_population|\n",
      "+--------------+--------------------+\n",
      "|         Qatar|                3.99|\n",
      "| French Guiana|                2.71|\n",
      "|       Bahrain|                2.51|\n",
      "|    San Marino|                2.06|\n",
      "|         Chile|                1.92|\n",
      "|        Panama|                1.65|\n",
      "|        Kuwait|                1.64|\n",
      "|          Oman|                1.58|\n",
      "|           USA|                1.52|\n",
      "|  Vatican City|                 1.5|\n",
      "+--------------+--------------------+\n",
      "\n"
     ]
    }
   ],
   "source": [
    "cases_per_population_query = \"\"\"\n",
    "SELECT \n",
    "    `Country/Region`, \n",
    "    ROUND(SUM(CAST(TotalCases AS float)) / NULLIF(SUM(CAST(Population AS float)), 0)*100, 2) AS cases_per_population\n",
    "FROM \n",
    "    average_death\n",
    "GROUP BY \n",
    "    `Country/Region`\n",
    "ORDER BY \n",
    "    cases_per_population DESC\n",
    "LIMIT 10;\n",
    "\"\"\"\n",
    "\n",
    "spark.sql(cases_per_population_query).show()\n"
   ]
  }
 ],
 "metadata": {
  "kernelspec": {
   "display_name": "Python 3",
   "language": "python",
   "name": "python3"
  },
  "language_info": {
   "codemirror_mode": {
    "name": "ipython",
    "version": 3
   },
   "file_extension": ".py",
   "mimetype": "text/x-python",
   "name": "python",
   "nbconvert_exporter": "python",
   "pygments_lexer": "ipython3",
   "version": "3.12.4"
  }
 },
 "nbformat": 4,
 "nbformat_minor": 2
}
