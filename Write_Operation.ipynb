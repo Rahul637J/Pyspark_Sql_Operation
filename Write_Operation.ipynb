{
 "cells": [
  {
   "cell_type": "markdown",
   "metadata": {},
   "source": [
    "'''<br>\n",
    "@Author: Rahul<br> \n",
    "@Date: 2024-10-08<br>\n",
    "@Last Modified by: Rahul <br>\n",
    "@Last Modified time: 2024-10-08<br>\n",
    "@Title: Python program to do write operation by pyspark.<br>\n",
    "'''"
   ]
  },
  {
   "cell_type": "code",
   "execution_count": 13,
   "metadata": {},
   "outputs": [],
   "source": [
    "from pyspark.sql import SparkSession\n",
    "from pyspark.sql import functions as F"
   ]
  },
  {
   "cell_type": "code",
   "execution_count": 3,
   "metadata": {},
   "outputs": [],
   "source": [
    "spark = SparkSession.builder \\\n",
    "    .appName(\"Write Example\") \\\n",
    "    .getOrCreate()"
   ]
  },
  {
   "cell_type": "code",
   "execution_count": 6,
   "metadata": {},
   "outputs": [],
   "source": [
    "df = spark.read.option(\"header\", \"true\") \\\n",
    "        .option(\"delimiter\",\";\") \\\n",
    "        .csv(r\"file:///C:\\Users\\rahul\\Desktop\\Spark_Tasks\\Pyspark_Sql_Operation\\username.txt\")\n",
    "\n",
    "df.write.mode(\"overwrite\").csv(r\"file:///C:\\Users\\rahul\\Desktop\\Spark_Tasks\\Pyspark_Sql_Operation\\output.csv\")        "
   ]
  },
  {
   "cell_type": "code",
   "execution_count": 12,
   "metadata": {},
   "outputs": [],
   "source": [
    "\n",
    "df = spark.read.option(\"header\", \"true\") \\\n",
    "        .option(\"delimiter\", \";\") \\\n",
    "        .csv(r\"file:///C:/Users/rahul/Desktop/Spark_Tasks/Pyspark_Sql_Operation/username.csv\")\n",
    "\n",
    "df_single_col = df.withColumn(\"combined\", \n",
    "    F.concat_ws(\", \", df[\"Username\"], df[\"Id\"], df[\"Firstname\"], df[\"Lastname\"]))\n",
    "\n",
    "df_single_col.select(\"combined\").write.mode(\"overwrite\").text(r\"file:///C:/Users/rahul/Desktop/Spark_Tasks/Pyspark_Sql_Operation/output.txt\")\n"
   ]
  },
  {
   "cell_type": "code",
   "execution_count": 14,
   "metadata": {},
   "outputs": [],
   "source": [
    "df = spark.read.option(\"header\", \"true\") \\\n",
    "        .option(\"delimiter\",\";\") \\\n",
    "        .csv(r\"file:///C:\\Users\\rahul\\Desktop\\Spark_Tasks\\Pyspark_Sql_Operation\\username.csv\")\n",
    "\n",
    "df.write.mode(\"overwrite\").json(r\"file:///C:\\Users\\rahul\\Desktop\\Spark_Tasks\\Pyspark_Sql_Operation\\output.json\") "
   ]
  },
  {
   "cell_type": "code",
   "execution_count": null,
   "metadata": {},
   "outputs": [],
   "source": []
  }
 ],
 "metadata": {
  "kernelspec": {
   "display_name": "Python 3",
   "language": "python",
   "name": "python3"
  },
  "language_info": {
   "codemirror_mode": {
    "name": "ipython",
    "version": 3
   },
   "file_extension": ".py",
   "mimetype": "text/x-python",
   "name": "python",
   "nbconvert_exporter": "python",
   "pygments_lexer": "ipython3",
   "version": "3.12.4"
  }
 },
 "nbformat": 4,
 "nbformat_minor": 2
}
