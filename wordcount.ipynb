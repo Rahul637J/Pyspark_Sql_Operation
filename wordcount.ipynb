{
 "cells": [
  {
   "cell_type": "markdown",
   "metadata": {},
   "source": [
    "'''<br>\n",
    "@Author: Rahul <br>\n",
    "@Date: 2024-10-12<br>\n",
    "@Last Modified by: Rahul <br>\n",
    "@Last Modified time: 2024-10-12<br>\n",
    "@Title: Python program for word count <br>\n",
    "'''"
   ]
  },
  {
   "cell_type": "code",
   "execution_count": 11,
   "metadata": {},
   "outputs": [],
   "source": [
    "from pyspark.sql import SparkSession\n",
    "from pyspark.sql.functions import explode, split, col"
   ]
  },
  {
   "cell_type": "code",
   "execution_count": 12,
   "metadata": {},
   "outputs": [],
   "source": [
    "spark = SparkSession.builder \\\n",
    "    .appName(\"WordCount\") \\\n",
    "    .getOrCreate()"
   ]
  },
  {
   "cell_type": "code",
   "execution_count": 15,
   "metadata": {},
   "outputs": [
    {
     "name": "stdout",
     "output_type": "stream",
     "text": [
      "+-------+-----+\n",
      "|   word|count|\n",
      "+-------+-----+\n",
      "|because|    2|\n",
      "|    saw|    1|\n",
      "| happy.|    1|\n",
      "| should|    1|\n",
      "|   felt|    1|\n",
      "| happy,|    1|\n",
      "|    but|    1|\n",
      "| others|    1|\n",
      "|   knew|    1|\n",
      "|    the|    1|\n",
      "| really|    1|\n",
      "|   feel|    1|\n",
      "|    and|    1|\n",
      "|  happy|    2|\n",
      "|      I|    5|\n",
      "|   were|    1|\n",
      "| wasn't|    1|\n",
      "+-------+-----+\n",
      "\n"
     ]
    }
   ],
   "source": [
    "# Read a text file into a DataFrame\n",
    "df = spark.read.text(r'file:///C:/Users/rahul/Desktop/Spark_Tasks/Pyspark_Sql_Operation/Python_Word_Count.txt')\n",
    "\n",
    "# Split the lines into words and explode them into individual rows\n",
    "words_df = df.select(explode(split(col(\"value\"), r\"\\s+\")).alias(\"word\"))\n",
    "\n",
    "# Count the occurrences of each word\n",
    "word_count_df = words_df.groupBy(\"word\").count()\n",
    "\n",
    "# Show the result\n",
    "word_count_df.show()"
   ]
  },
  {
   "cell_type": "code",
   "execution_count": null,
   "metadata": {},
   "outputs": [],
   "source": []
  }
 ],
 "metadata": {
  "kernelspec": {
   "display_name": "Python 3",
   "language": "python",
   "name": "python3"
  },
  "language_info": {
   "codemirror_mode": {
    "name": "ipython",
    "version": 3
   },
   "file_extension": ".py",
   "mimetype": "text/x-python",
   "name": "python",
   "nbconvert_exporter": "python",
   "pygments_lexer": "ipython3",
   "version": "3.12.4"
  }
 },
 "nbformat": 4,
 "nbformat_minor": 2
}
