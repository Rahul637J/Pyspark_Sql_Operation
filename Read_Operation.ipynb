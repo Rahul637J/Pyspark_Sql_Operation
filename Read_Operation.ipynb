{
 "cells": [
  {
   "cell_type": "markdown",
   "metadata": {},
   "source": [
    "'''<br>\n",
    "@Author: Rahul<br> \n",
    "@Date: 2024-10-08<br>\n",
    "@Last Modified by: Rahul <br>\n",
    "@Last Modified time: 2024-10-08<br>\n",
    "@Title: Python program to read operation in using pyspark.<br>\n",
    "'''"
   ]
  },
  {
   "cell_type": "code",
   "execution_count": 2,
   "metadata": {},
   "outputs": [],
   "source": [
    "from pyspark.sql import SparkSession"
   ]
  },
  {
   "cell_type": "code",
   "execution_count": 3,
   "metadata": {},
   "outputs": [],
   "source": [
    "spark = SparkSession.builder \\\n",
    "    .appName(\"Read CSV from Local\") \\\n",
    "    .getOrCreate()"
   ]
  },
  {
   "cell_type": "code",
   "execution_count": 9,
   "metadata": {},
   "outputs": [
    {
     "name": "stdout",
     "output_type": "stream",
     "text": [
      "+---------+-----------+----------+---------+\n",
      "| Username| Identifier|First name|Last name|\n",
      "+---------+-----------+----------+---------+\n",
      "| booker12|       9012|    Rachel|   Booker|\n",
      "|   grey07|       2070|     Laura|     Grey|\n",
      "|johnson81|       4081|     Craig|  Johnson|\n",
      "|jenkins46|       9346|      Mary|  Jenkins|\n",
      "|  smith79|       5079|     Jamie|    Smith|\n",
      "+---------+-----------+----------+---------+\n",
      "\n"
     ]
    }
   ],
   "source": [
    "\n",
    "try:\n",
    "    df = spark.read.option(\"header\", \"true\") \\\n",
    "        .option(\"delimiter\",\";\") \\\n",
    "        .csv(r\"file:///C:\\Users\\rahul\\Desktop\\Spark_Tasks\\Pyspark_Sql_Operation\\username.csv\")\n",
    "    \n",
    "    df.show()\n",
    "\n",
    "except Exception as e:  \n",
    "    print(f\"Could not load the file: {e}\")"
   ]
  },
  {
   "cell_type": "code",
   "execution_count": 6,
   "metadata": {},
   "outputs": [
    {
     "name": "stdout",
     "output_type": "stream",
     "text": [
      "+---------+----------+---------+--------+\n",
      "| Username|Identifier|Firstname|Lastname|\n",
      "+---------+----------+---------+--------+\n",
      "| booker12|      9012|   Rachel|  Booker|\n",
      "|   grey07|      2070|    Laura|    Grey|\n",
      "|johnson81|      4081|    Craig| Johnson|\n",
      "|jenkins46|      9346|     Mary| Jenkins|\n",
      "|  smith79|      5079|    Jamie|   Smith|\n",
      "+---------+----------+---------+--------+\n",
      "\n"
     ]
    }
   ],
   "source": [
    "try:\n",
    "    df = spark.read.option(\"header\", \"true\") \\\n",
    "              .option(\"delimiter\",\" \")\\\n",
    "              .csv(r\"file:///C:\\Users\\rahul\\Desktop\\Spark_Tasks\\Pyspark_Sql_Operation\\username.txt\")\n",
    "    \n",
    "    df.show()\n",
    "\n",
    "except Exception as e:  \n",
    "    print(f\"Could not load the file: {e}\")"
   ]
  },
  {
   "cell_type": "code",
   "execution_count": 7,
   "metadata": {},
   "outputs": [
    {
     "name": "stdout",
     "output_type": "stream",
     "text": [
      "+--------------------+---+---------+------+--------+--------------------+\n",
      "|             address|age|firstName|gender|lastName|        phoneNumbers|\n",
      "+--------------------+---+---------+------+--------+--------------------+\n",
      "|{San Diego, CA, 101}| 28|      Joe|  male| Jackson|[{7349282382, home}]|\n",
      "+--------------------+---+---------+------+--------+--------------------+\n",
      "\n"
     ]
    }
   ],
   "source": [
    "from pyspark.sql import SparkSession\n",
    "\n",
    "spark = SparkSession.builder \\\n",
    "    .appName(\"Read JSON from Local\") \\\n",
    "    .getOrCreate()\n",
    "\n",
    "try:\n",
    "    df = spark.read.option(\"multiLine\", \"true\") \\\n",
    "                   .json(r\"file:///C:/Users/rahul/Desktop/Spark_Tasks/Pyspark_Sql_Operation/sample.json\")\n",
    "        \n",
    "    df.show()\n",
    "\n",
    "except Exception as e: \n",
    "    print(f\"Could not load the file: {e}\")"
   ]
  }
 ],
 "metadata": {
  "kernelspec": {
   "display_name": "Python 3",
   "language": "python",
   "name": "python3"
  },
  "language_info": {
   "codemirror_mode": {
    "name": "ipython",
    "version": 3
   },
   "file_extension": ".py",
   "mimetype": "text/x-python",
   "name": "python",
   "nbconvert_exporter": "python",
   "pygments_lexer": "ipython3",
   "version": "3.12.4"
  }
 },
 "nbformat": 4,
 "nbformat_minor": 2
}
